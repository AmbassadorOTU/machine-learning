{
 "cells": [
  {
   "cell_type": "code",
   "execution_count": 14,
   "id": "839373f7",
   "metadata": {},
   "outputs": [],
   "source": [
    "import matplotlib.image as img\n",
    "import matplotlib.pyplot as plt\n",
    "import seaborn as sns\n",
    "import pandas as pd\n",
    "from scipy.cluster.vq import whiten, kmeans, vq"
   ]
  },
  {
   "cell_type": "code",
   "execution_count": 2,
   "id": "b5d1480d",
   "metadata": {},
   "outputs": [
    {
     "data": {
      "text/plain": [
       "(169, 269, 3)"
      ]
     },
     "execution_count": 2,
     "metadata": {},
     "output_type": "execute_result"
    }
   ],
   "source": [
    "# Read batman image and print dimensions\n",
    "df = img.imread('data/batman.jpg')\n",
    "df.shape"
   ]
  },
  {
   "cell_type": "code",
   "execution_count": 3,
   "id": "0f294e2e",
   "metadata": {},
   "outputs": [],
   "source": [
    "r = []\n",
    "g = []\n",
    "b = []\n",
    "\n",
    "# Store RGB values of all pixels in lists r, g and b\n",
    "for row in df:\n",
    "    for temp_r, temp_g, temp_b in row:\n",
    "        r.append(temp_r)\n",
    "        g.append(temp_g)\n",
    "        b.append(temp_b)"
   ]
  },
  {
   "cell_type": "code",
   "execution_count": 19,
   "id": "68d5930e",
   "metadata": {},
   "outputs": [
    {
     "name": "stdout",
     "output_type": "stream",
     "text": [
      "45461 45461 45461\n"
     ]
    }
   ],
   "source": [
    "print(len(r), len(g), len(b))"
   ]
  },
  {
   "cell_type": "code",
   "execution_count": 5,
   "id": "58ffa949",
   "metadata": {},
   "outputs": [
    {
     "data": {
      "text/html": [
       "<div>\n",
       "<style scoped>\n",
       "    .dataframe tbody tr th:only-of-type {\n",
       "        vertical-align: middle;\n",
       "    }\n",
       "\n",
       "    .dataframe tbody tr th {\n",
       "        vertical-align: top;\n",
       "    }\n",
       "\n",
       "    .dataframe thead th {\n",
       "        text-align: right;\n",
       "    }\n",
       "</style>\n",
       "<table border=\"1\" class=\"dataframe\">\n",
       "  <thead>\n",
       "    <tr style=\"text-align: right;\">\n",
       "      <th></th>\n",
       "      <th>red</th>\n",
       "      <th>green</th>\n",
       "      <th>blue</th>\n",
       "    </tr>\n",
       "  </thead>\n",
       "  <tbody>\n",
       "    <tr>\n",
       "      <th>0</th>\n",
       "      <td>37</td>\n",
       "      <td>27</td>\n",
       "      <td>25</td>\n",
       "    </tr>\n",
       "    <tr>\n",
       "      <th>1</th>\n",
       "      <td>36</td>\n",
       "      <td>22</td>\n",
       "      <td>19</td>\n",
       "    </tr>\n",
       "    <tr>\n",
       "      <th>2</th>\n",
       "      <td>48</td>\n",
       "      <td>22</td>\n",
       "      <td>23</td>\n",
       "    </tr>\n",
       "    <tr>\n",
       "      <th>3</th>\n",
       "      <td>54</td>\n",
       "      <td>30</td>\n",
       "      <td>30</td>\n",
       "    </tr>\n",
       "    <tr>\n",
       "      <th>4</th>\n",
       "      <td>32</td>\n",
       "      <td>17</td>\n",
       "      <td>22</td>\n",
       "    </tr>\n",
       "  </tbody>\n",
       "</table>\n",
       "</div>"
      ],
      "text/plain": [
       "   red  green  blue\n",
       "0   37     27    25\n",
       "1   36     22    19\n",
       "2   48     22    23\n",
       "3   54     30    30\n",
       "4   32     17    22"
      ]
     },
     "execution_count": 5,
     "metadata": {},
     "output_type": "execute_result"
    }
   ],
   "source": [
    "df = pd.DataFrame({'red': r, 'green': g, 'blue': b})\n",
    "df.head()"
   ]
  },
  {
   "cell_type": "code",
   "execution_count": 7,
   "id": "15e516ff",
   "metadata": {},
   "outputs": [],
   "source": [
    "df['scaled_red'] = whiten(df['red'])\n",
    "df['scaled_green'] = whiten(df['green'])\n",
    "df['scaled_blue'] = whiten(df['blue'])"
   ]
  },
  {
   "cell_type": "code",
   "execution_count": 20,
   "id": "3813b74d",
   "metadata": {},
   "outputs": [
    {
     "data": {
      "text/html": [
       "<div>\n",
       "<style scoped>\n",
       "    .dataframe tbody tr th:only-of-type {\n",
       "        vertical-align: middle;\n",
       "    }\n",
       "\n",
       "    .dataframe tbody tr th {\n",
       "        vertical-align: top;\n",
       "    }\n",
       "\n",
       "    .dataframe thead th {\n",
       "        text-align: right;\n",
       "    }\n",
       "</style>\n",
       "<table border=\"1\" class=\"dataframe\">\n",
       "  <thead>\n",
       "    <tr style=\"text-align: right;\">\n",
       "      <th></th>\n",
       "      <th>red</th>\n",
       "      <th>green</th>\n",
       "      <th>blue</th>\n",
       "      <th>scaled_red</th>\n",
       "      <th>scaled_green</th>\n",
       "      <th>scaled_blue</th>\n",
       "    </tr>\n",
       "  </thead>\n",
       "  <tbody>\n",
       "    <tr>\n",
       "      <th>0</th>\n",
       "      <td>37</td>\n",
       "      <td>27</td>\n",
       "      <td>25</td>\n",
       "      <td>0.464893</td>\n",
       "      <td>0.357715</td>\n",
       "      <td>0.281166</td>\n",
       "    </tr>\n",
       "    <tr>\n",
       "      <th>1</th>\n",
       "      <td>36</td>\n",
       "      <td>22</td>\n",
       "      <td>19</td>\n",
       "      <td>0.452328</td>\n",
       "      <td>0.291471</td>\n",
       "      <td>0.213686</td>\n",
       "    </tr>\n",
       "    <tr>\n",
       "      <th>2</th>\n",
       "      <td>48</td>\n",
       "      <td>22</td>\n",
       "      <td>23</td>\n",
       "      <td>0.603104</td>\n",
       "      <td>0.291471</td>\n",
       "      <td>0.258673</td>\n",
       "    </tr>\n",
       "    <tr>\n",
       "      <th>3</th>\n",
       "      <td>54</td>\n",
       "      <td>30</td>\n",
       "      <td>30</td>\n",
       "      <td>0.678492</td>\n",
       "      <td>0.397461</td>\n",
       "      <td>0.337399</td>\n",
       "    </tr>\n",
       "    <tr>\n",
       "      <th>4</th>\n",
       "      <td>32</td>\n",
       "      <td>17</td>\n",
       "      <td>22</td>\n",
       "      <td>0.402069</td>\n",
       "      <td>0.225228</td>\n",
       "      <td>0.247426</td>\n",
       "    </tr>\n",
       "  </tbody>\n",
       "</table>\n",
       "</div>"
      ],
      "text/plain": [
       "   red  green  blue  scaled_red  scaled_green  scaled_blue\n",
       "0   37     27    25    0.464893      0.357715     0.281166\n",
       "1   36     22    19    0.452328      0.291471     0.213686\n",
       "2   48     22    23    0.603104      0.291471     0.258673\n",
       "3   54     30    30    0.678492      0.397461     0.337399\n",
       "4   32     17    22    0.402069      0.225228     0.247426"
      ]
     },
     "execution_count": 20,
     "metadata": {},
     "output_type": "execute_result"
    }
   ],
   "source": [
    "df.head()"
   ]
  },
  {
   "cell_type": "code",
   "execution_count": 21,
   "id": "5f2c972c",
   "metadata": {},
   "outputs": [
    {
     "data": {
      "text/plain": [
       "(45461, 6)"
      ]
     },
     "execution_count": 21,
     "metadata": {},
     "output_type": "execute_result"
    }
   ],
   "source": [
    "df.shape"
   ]
  },
  {
   "cell_type": "code",
   "execution_count": 15,
   "id": "959e74dd",
   "metadata": {},
   "outputs": [
    {
     "data": {
      "image/png": "[encoded data removed]",
      "text/plain": [
       "<Figure size 640x480 with 1 Axes>"
      ]
     },
     "metadata": {},
     "output_type": "display_data"
    }
   ],
   "source": [
    "distortions = []\n",
    "num_clusters = range(1, 7)\n",
    "\n",
    "# Create a list of distortions from the kmeans function\n",
    "for i in num_clusters:\n",
    "    cluster_centers, distortion = kmeans(df[['scaled_red', 'scaled_green', 'scaled_blue']], i)\n",
    "    distortions.append(distortion)\n",
    "\n",
    "# Create a DataFrame with two lists, num_clusters and distortions\n",
    "elbow_plot = pd.DataFrame({'num_clusters': num_clusters, 'distortions': distortions})\n",
    "\n",
    "# Create a line plot of num_clusters and distortions\n",
    "sns.lineplot(x='num_clusters', y='distortions', data = elbow_plot)\n",
    "plt.xticks(num_clusters)\n",
    "plt.show()"
   ]
  },
  {
   "cell_type": "code",
   "execution_count": 22,
   "id": "e1a3d954",
   "metadata": {},
   "outputs": [
    {
     "data": {
      "text/plain": [
       "(6, 2)"
      ]
     },
     "execution_count": 22,
     "metadata": {},
     "output_type": "execute_result"
    }
   ],
   "source": [
    "elbow_plot.shape"
   ]
  },
  {
   "cell_type": "code",
   "execution_count": 24,
   "id": "59464bb3",
   "metadata": {},
   "outputs": [],
   "source": [
    "cluster_centers, _ = kmeans(df[['scaled_red', 'scaled_green', 'scaled_blue']], 3)"
   ]
  },
  {
   "cell_type": "code",
   "execution_count": 26,
   "id": "4fb7a814",
   "metadata": {},
   "outputs": [
    {
     "data": {
      "image/png": "[encoded data removed]",
      "text/plain": [
       "<Figure size 640x480 with 1 Axes>"
      ]
     },
     "metadata": {},
     "output_type": "display_data"
    }
   ],
   "source": [
    "# Get standard deviations of each color\n",
    "r_std, g_std, b_std = df[['red', 'green', 'blue']].std()\n",
    "\n",
    "colors = []\n",
    "\n",
    "for cluster_center in cluster_centers:\n",
    "    scaled_r, scaled_g, scaled_b = cluster_center\n",
    "    # Convert each standardized value to scaled value\n",
    "    colors.append((\n",
    "        scaled_r * r_std / 255,\n",
    "        scaled_g * g_std / 255,\n",
    "        scaled_b * b_std / 255\n",
    "    ))\n",
    "\n",
    "# Display colors of cluster centers\n",
    "plt.imshow([colors])\n",
    "plt.show()"
   ]
  },
  {
   "cell_type": "code",
   "execution_count": null,
   "id": "8a9f8bf9",
   "metadata": {},
   "outputs": [],
   "source": []
  }
 ],
 "metadata": {
  "kernelspec": {
   "display_name": "Python 3 (ipykernel)",
   "language": "python",
   "name": "python3"
  },
  "language_info": {
   "codemirror_mode": {
    "name": "ipython",
    "version": 3
   },
   "file_extension": ".py",
   "mimetype": "text/x-python",
   "name": "python",
   "nbconvert_exporter": "python",
   "pygments_lexer": "ipython3",
   "version": "3.10.4"
  }
 },
 "nbformat": 4,
 "nbformat_minor": 5
}
