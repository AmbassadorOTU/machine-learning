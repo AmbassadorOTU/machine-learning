{
 "cells": [
  {
   "cell_type": "code",
   "execution_count": 14,
   "id": "0e932ad0",
   "metadata": {},
   "outputs": [],
   "source": [
    "import numpy as np\n",
    "import pandas as pd\n",
    "import matplotlib.pyplot as plt\n",
    "from sklearn.decomposition import PCA"
   ]
  },
  {
   "cell_type": "code",
   "execution_count": 2,
   "id": "e02fc5fa",
   "metadata": {},
   "outputs": [
    {
     "data": {
      "text/html": [
       "<div>\n",
       "<style scoped>\n",
       "    .dataframe tbody tr th:only-of-type {\n",
       "        vertical-align: middle;\n",
       "    }\n",
       "\n",
       "    .dataframe tbody tr th {\n",
       "        vertical-align: top;\n",
       "    }\n",
       "\n",
       "    .dataframe thead th {\n",
       "        text-align: right;\n",
       "    }\n",
       "</style>\n",
       "<table border=\"1\" class=\"dataframe\">\n",
       "  <thead>\n",
       "    <tr style=\"text-align: right;\">\n",
       "      <th></th>\n",
       "      <th>class_label</th>\n",
       "      <th>class_name</th>\n",
       "      <th>alcohol</th>\n",
       "      <th>malic_acid</th>\n",
       "      <th>ash</th>\n",
       "      <th>alcalinity_of_ash</th>\n",
       "      <th>magnesium</th>\n",
       "      <th>total_phenols</th>\n",
       "      <th>flavanoids</th>\n",
       "      <th>nonflavanoid_phenols</th>\n",
       "      <th>proanthocyanins</th>\n",
       "      <th>color_intensity</th>\n",
       "      <th>hue</th>\n",
       "      <th>od280</th>\n",
       "      <th>proline</th>\n",
       "    </tr>\n",
       "  </thead>\n",
       "  <tbody>\n",
       "    <tr>\n",
       "      <th>0</th>\n",
       "      <td>1</td>\n",
       "      <td>Barolo</td>\n",
       "      <td>14.23</td>\n",
       "      <td>1.71</td>\n",
       "      <td>2.43</td>\n",
       "      <td>15.6</td>\n",
       "      <td>127</td>\n",
       "      <td>2.80</td>\n",
       "      <td>3.06</td>\n",
       "      <td>0.28</td>\n",
       "      <td>2.29</td>\n",
       "      <td>5.64</td>\n",
       "      <td>1.04</td>\n",
       "      <td>3.92</td>\n",
       "      <td>1065</td>\n",
       "    </tr>\n",
       "    <tr>\n",
       "      <th>1</th>\n",
       "      <td>1</td>\n",
       "      <td>Barolo</td>\n",
       "      <td>13.20</td>\n",
       "      <td>1.78</td>\n",
       "      <td>2.14</td>\n",
       "      <td>11.2</td>\n",
       "      <td>100</td>\n",
       "      <td>2.65</td>\n",
       "      <td>2.76</td>\n",
       "      <td>0.26</td>\n",
       "      <td>1.28</td>\n",
       "      <td>4.38</td>\n",
       "      <td>1.05</td>\n",
       "      <td>3.40</td>\n",
       "      <td>1050</td>\n",
       "    </tr>\n",
       "    <tr>\n",
       "      <th>2</th>\n",
       "      <td>1</td>\n",
       "      <td>Barolo</td>\n",
       "      <td>13.16</td>\n",
       "      <td>2.36</td>\n",
       "      <td>2.67</td>\n",
       "      <td>18.6</td>\n",
       "      <td>101</td>\n",
       "      <td>2.80</td>\n",
       "      <td>3.24</td>\n",
       "      <td>0.30</td>\n",
       "      <td>2.81</td>\n",
       "      <td>5.68</td>\n",
       "      <td>1.03</td>\n",
       "      <td>3.17</td>\n",
       "      <td>1185</td>\n",
       "    </tr>\n",
       "    <tr>\n",
       "      <th>3</th>\n",
       "      <td>1</td>\n",
       "      <td>Barolo</td>\n",
       "      <td>14.37</td>\n",
       "      <td>1.95</td>\n",
       "      <td>2.50</td>\n",
       "      <td>16.8</td>\n",
       "      <td>113</td>\n",
       "      <td>3.85</td>\n",
       "      <td>3.49</td>\n",
       "      <td>0.24</td>\n",
       "      <td>2.18</td>\n",
       "      <td>7.80</td>\n",
       "      <td>0.86</td>\n",
       "      <td>3.45</td>\n",
       "      <td>1480</td>\n",
       "    </tr>\n",
       "    <tr>\n",
       "      <th>4</th>\n",
       "      <td>1</td>\n",
       "      <td>Barolo</td>\n",
       "      <td>13.24</td>\n",
       "      <td>2.59</td>\n",
       "      <td>2.87</td>\n",
       "      <td>21.0</td>\n",
       "      <td>118</td>\n",
       "      <td>2.80</td>\n",
       "      <td>2.69</td>\n",
       "      <td>0.39</td>\n",
       "      <td>1.82</td>\n",
       "      <td>4.32</td>\n",
       "      <td>1.04</td>\n",
       "      <td>2.93</td>\n",
       "      <td>735</td>\n",
       "    </tr>\n",
       "  </tbody>\n",
       "</table>\n",
       "</div>"
      ],
      "text/plain": [
       "   class_label class_name  alcohol  malic_acid   ash  alcalinity_of_ash  \\\n",
       "0            1     Barolo    14.23        1.71  2.43               15.6   \n",
       "1            1     Barolo    13.20        1.78  2.14               11.2   \n",
       "2            1     Barolo    13.16        2.36  2.67               18.6   \n",
       "3            1     Barolo    14.37        1.95  2.50               16.8   \n",
       "4            1     Barolo    13.24        2.59  2.87               21.0   \n",
       "\n",
       "   magnesium  total_phenols  flavanoids  nonflavanoid_phenols  \\\n",
       "0        127           2.80        3.06                  0.28   \n",
       "1        100           2.65        2.76                  0.26   \n",
       "2        101           2.80        3.24                  0.30   \n",
       "3        113           3.85        3.49                  0.24   \n",
       "4        118           2.80        2.69                  0.39   \n",
       "\n",
       "   proanthocyanins  color_intensity   hue  od280  proline  \n",
       "0             2.29             5.64  1.04   3.92     1065  \n",
       "1             1.28             4.38  1.05   3.40     1050  \n",
       "2             2.81             5.68  1.03   3.17     1185  \n",
       "3             2.18             7.80  0.86   3.45     1480  \n",
       "4             1.82             4.32  1.04   2.93      735  "
      ]
     },
     "execution_count": 2,
     "metadata": {},
     "output_type": "execute_result"
    }
   ],
   "source": [
    "df = pd.read_csv('data/wine.csv')\n",
    "df.head()"
   ]
  },
  {
   "cell_type": "code",
   "execution_count": 5,
   "id": "855c2596",
   "metadata": {},
   "outputs": [
    {
     "data": {
      "text/plain": [
       "class_label             0\n",
       "class_name              0\n",
       "alcohol                 0\n",
       "malic_acid              0\n",
       "ash                     0\n",
       "alcalinity_of_ash       0\n",
       "magnesium               0\n",
       "total_phenols           0\n",
       "flavanoids              0\n",
       "nonflavanoid_phenols    0\n",
       "proanthocyanins         0\n",
       "color_intensity         0\n",
       "hue                     0\n",
       "od280                   0\n",
       "proline                 0\n",
       "dtype: int64"
      ]
     },
     "execution_count": 5,
     "metadata": {},
     "output_type": "execute_result"
    }
   ],
   "source": [
    "df.isna().sum()"
   ]
  },
  {
   "cell_type": "code",
   "execution_count": 9,
   "id": "a44dd82e",
   "metadata": {},
   "outputs": [
    {
     "data": {
      "text/plain": [
       "array([1, 1, 1, 1, 1, 1, 1, 1, 1, 1, 1, 1, 1, 1, 1, 1, 1, 1, 1, 1, 1, 1,\n",
       "       1, 1, 1, 1, 1, 1, 1, 1, 1, 1, 1, 1, 1, 1, 1, 1, 1, 1, 1, 1, 1, 1,\n",
       "       1, 1, 1, 1, 1, 1, 1, 1, 1, 1, 1, 1, 1, 1, 1, 2, 2, 2, 2, 2, 2, 2,\n",
       "       2, 2, 2, 2, 2, 2, 2, 2, 2, 2, 2, 2, 2, 2, 2, 2, 2, 2, 2, 2, 2, 2,\n",
       "       2, 2, 2, 2, 2, 2, 2, 2, 2, 2, 2, 2, 2, 2, 2, 2, 2, 2, 2, 2, 2, 2,\n",
       "       2, 2, 2, 2, 2, 2, 2, 2, 2, 2, 2, 2, 2, 2, 2, 2, 2, 2, 2, 2, 3, 3,\n",
       "       3, 3, 3, 3, 3, 3, 3, 3, 3, 3, 3, 3, 3, 3, 3, 3, 3, 3, 3, 3, 3, 3,\n",
       "       3, 3, 3, 3, 3, 3, 3, 3, 3, 3, 3, 3, 3, 3, 3, 3, 3, 3, 3, 3, 3, 3,\n",
       "       3, 3], dtype=int64)"
      ]
     },
     "execution_count": 9,
     "metadata": {},
     "output_type": "execute_result"
    }
   ],
   "source": [
    "targets = np.array(df['class_label'])\n",
    "targets"
   ]
  },
  {
   "cell_type": "code",
   "execution_count": 11,
   "id": "96fd74ad",
   "metadata": {
    "scrolled": true
   },
   "outputs": [
    {
     "data": {
      "text/plain": [
       "array(['Barolo', 'Barolo', 'Barolo', 'Barolo', 'Barolo', 'Barolo',\n",
       "       'Barolo', 'Barolo', 'Barolo', 'Barolo', 'Barolo', 'Barolo',\n",
       "       'Barolo', 'Barolo', 'Barolo', 'Barolo', 'Barolo', 'Barolo',\n",
       "       'Barolo', 'Barolo', 'Barolo', 'Barolo', 'Barolo', 'Barolo',\n",
       "       'Barolo', 'Barolo', 'Barolo', 'Barolo', 'Barolo', 'Barolo',\n",
       "       'Barolo', 'Barolo', 'Barolo', 'Barolo', 'Barolo', 'Barolo',\n",
       "       'Barolo', 'Barolo', 'Barolo', 'Barolo', 'Barolo', 'Barolo',\n",
       "       'Barolo', 'Barolo', 'Barolo', 'Barolo', 'Barolo', 'Barolo',\n",
       "       'Barolo', 'Barolo', 'Barolo', 'Barolo', 'Barolo', 'Barolo',\n",
       "       'Barolo', 'Barolo', 'Barolo', 'Barolo', 'Barolo', 'Grignolino',\n",
       "       'Grignolino', 'Grignolino', 'Grignolino', 'Grignolino',\n",
       "       'Grignolino', 'Grignolino', 'Grignolino', 'Grignolino',\n",
       "       'Grignolino', 'Grignolino', 'Grignolino', 'Grignolino',\n",
       "       'Grignolino', 'Grignolino', 'Grignolino', 'Grignolino',\n",
       "       'Grignolino', 'Grignolino', 'Grignolino', 'Grignolino',\n",
       "       'Grignolino', 'Grignolino', 'Grignolino', 'Grignolino',\n",
       "       'Grignolino', 'Grignolino', 'Grignolino', 'Grignolino',\n",
       "       'Grignolino', 'Grignolino', 'Grignolino', 'Grignolino',\n",
       "       'Grignolino', 'Grignolino', 'Grignolino', 'Grignolino',\n",
       "       'Grignolino', 'Grignolino', 'Grignolino', 'Grignolino',\n",
       "       'Grignolino', 'Grignolino', 'Grignolino', 'Grignolino',\n",
       "       'Grignolino', 'Grignolino', 'Grignolino', 'Grignolino',\n",
       "       'Grignolino', 'Grignolino', 'Grignolino', 'Grignolino',\n",
       "       'Grignolino', 'Grignolino', 'Grignolino', 'Grignolino',\n",
       "       'Grignolino', 'Grignolino', 'Grignolino', 'Grignolino',\n",
       "       'Grignolino', 'Grignolino', 'Grignolino', 'Grignolino',\n",
       "       'Grignolino', 'Grignolino', 'Grignolino', 'Grignolino',\n",
       "       'Grignolino', 'Grignolino', 'Barbera', 'Barbera', 'Barbera',\n",
       "       'Barbera', 'Barbera', 'Barbera', 'Barbera', 'Barbera', 'Barbera',\n",
       "       'Barbera', 'Barbera', 'Barbera', 'Barbera', 'Barbera', 'Barbera',\n",
       "       'Barbera', 'Barbera', 'Barbera', 'Barbera', 'Barbera', 'Barbera',\n",
       "       'Barbera', 'Barbera', 'Barbera', 'Barbera', 'Barbera', 'Barbera',\n",
       "       'Barbera', 'Barbera', 'Barbera', 'Barbera', 'Barbera', 'Barbera',\n",
       "       'Barbera', 'Barbera', 'Barbera', 'Barbera', 'Barbera', 'Barbera',\n",
       "       'Barbera', 'Barbera', 'Barbera', 'Barbera', 'Barbera', 'Barbera',\n",
       "       'Barbera', 'Barbera', 'Barbera'], dtype=object)"
      ]
     },
     "execution_count": 11,
     "metadata": {},
     "output_type": "execute_result"
    }
   ],
   "source": [
    "wines = np.array(df['class_name'])\n",
    "wines"
   ]
  },
  {
   "cell_type": "code",
   "execution_count": 13,
   "id": "ee4c775d",
   "metadata": {},
   "outputs": [
    {
     "data": {
      "text/plain": [
       "array([[1.423e+01, 1.710e+00, 2.430e+00, ..., 1.040e+00, 3.920e+00,\n",
       "        1.065e+03],\n",
       "       [1.320e+01, 1.780e+00, 2.140e+00, ..., 1.050e+00, 3.400e+00,\n",
       "        1.050e+03],\n",
       "       [1.316e+01, 2.360e+00, 2.670e+00, ..., 1.030e+00, 3.170e+00,\n",
       "        1.185e+03],\n",
       "       ...,\n",
       "       [1.327e+01, 4.280e+00, 2.260e+00, ..., 5.900e-01, 1.560e+00,\n",
       "        8.350e+02],\n",
       "       [1.317e+01, 2.590e+00, 2.370e+00, ..., 6.000e-01, 1.620e+00,\n",
       "        8.400e+02],\n",
       "       [1.413e+01, 4.100e+00, 2.740e+00, ..., 6.100e-01, 1.600e+00,\n",
       "        5.600e+02]])"
      ]
     },
     "execution_count": 13,
     "metadata": {},
     "output_type": "execute_result"
    }
   ],
   "source": [
    "samples = np.array(df.iloc[:,2:])\n",
    "samples"
   ]
  },
  {
   "cell_type": "code",
   "execution_count": 15,
   "id": "a30d3c3f",
   "metadata": {},
   "outputs": [
    {
     "data": {
      "text/plain": [
       "array([[ 3.18562979e+02,  2.14921307e+01,  3.13073470e+00, ...,\n",
       "         8.87340044e-02, -3.85475626e-02,  8.02644337e-02],\n",
       "       [ 3.03097420e+02, -5.36471768e+00,  6.82283550e+00, ...,\n",
       "         3.97781862e-02, -5.71915771e-02,  1.35927465e-02],\n",
       "       [ 4.38061133e+02, -6.53730945e+00, -1.11322298e+00, ...,\n",
       "         2.37770027e-01, -4.87978751e-02, -3.54081623e-02],\n",
       "       ...,\n",
       "       [ 8.84580737e+01,  1.87762846e+01, -2.23757651e+00, ...,\n",
       "        -2.23049341e-01,  9.60485020e-02,  3.61748954e-02],\n",
       "       [ 9.34562419e+01,  1.86708191e+01, -1.78839152e+00, ...,\n",
       "        -3.04078323e-02, -5.20893107e-02,  1.32759078e-01],\n",
       "       [-1.86943190e+02, -2.13330803e-01, -5.63050984e+00, ...,\n",
       "         1.60725068e-01,  3.19201764e-02,  2.69369989e-02]])"
      ]
     },
     "execution_count": 15,
     "metadata": {},
     "output_type": "execute_result"
    }
   ],
   "source": [
    "pca = PCA()\n",
    "pca.fit(samples)\n",
    "transformed = pca.transform(samples)\n",
    "transformed"
   ]
  },
  {
   "cell_type": "code",
   "execution_count": 16,
   "id": "319885e8",
   "metadata": {},
   "outputs": [
    {
     "data": {
      "text/plain": [
       "array([[ 1.65926472e-03, -6.81015556e-04,  1.94905742e-04,\n",
       "        -4.67130058e-03,  1.78680075e-02,  9.89829680e-04,\n",
       "         1.56728830e-03, -1.23086662e-04,  6.00607792e-04,\n",
       "         2.32714319e-03,  1.71380037e-04,  7.04931645e-04,\n",
       "         9.99822937e-01],\n",
       "       [ 1.20340617e-03,  2.15498184e-03,  4.59369254e-03,\n",
       "         2.64503930e-02,  9.99344186e-01,  8.77962152e-04,\n",
       "        -5.18507284e-05, -1.35447892e-03,  5.00440040e-03,\n",
       "         1.51003530e-02, -7.62673115e-04, -3.49536431e-03,\n",
       "        -1.77738095e-02],\n",
       "       [-1.68738094e-02, -1.22003373e-01, -5.19874304e-02,\n",
       "        -9.38593003e-01,  2.97802484e-02,  4.04846439e-02,\n",
       "         8.54433387e-02, -1.35107797e-02,  2.46593824e-02,\n",
       "        -2.91398464e-01,  2.59776624e-02,  7.03239693e-02,\n",
       "        -4.52868159e-03],\n",
       "       [-1.41446778e-01, -1.60389543e-01,  9.77280992e-03,\n",
       "         3.30965260e-01,  5.39375605e-03,  7.45846556e-02,\n",
       "         1.69086724e-01, -1.08055610e-02,  5.01209524e-02,\n",
       "        -8.78893693e-01,  6.00349446e-02,  1.78200254e-01,\n",
       "         3.11291570e-03],\n",
       "       [ 2.03369773e-02, -6.12883454e-01,  2.01755752e-02,\n",
       "         6.43523403e-02, -6.14934472e-03,  3.15245063e-01,\n",
       "         5.24761088e-01, -2.96475124e-02,  2.51182529e-01,\n",
       "         3.31747051e-01,  5.15240771e-02,  2.60639176e-01,\n",
       "        -2.29856939e-03],\n",
       "       [ 1.94120104e-01,  7.42472963e-01,  4.17529118e-02,\n",
       "        -2.40653026e-02, -1.92378154e-03,  2.78716809e-01,\n",
       "         4.33597955e-01, -2.19528343e-02,  2.41884488e-01,\n",
       "         2.73960896e-03, -2.37761666e-02,  2.88912753e-01,\n",
       "        -1.21225507e-03],\n",
       "       [-9.23280337e-01,  1.50109941e-01, -4.50095493e-02,\n",
       "        -3.15265835e-02, -1.79736268e-03,  2.01857100e-02,\n",
       "         3.88685182e-02,  4.66548296e-03,  3.09799487e-01,\n",
       "         1.12836514e-01, -3.08198127e-02, -1.01973518e-01,\n",
       "         1.07618923e-03],\n",
       "       [-2.84820658e-01,  6.46744678e-02,  1.49339532e-01,\n",
       "        -1.51539118e-02,  3.55221241e-03,  1.77237945e-01,\n",
       "         2.48116635e-01, -6.49796752e-03, -8.70433157e-01,\n",
       "         8.12869205e-02,  2.95190435e-03,  1.86714531e-01,\n",
       "        -1.03409482e-05],\n",
       "       [-8.66006124e-02, -1.56621385e-02, -7.36498524e-02,\n",
       "        -2.04457785e-03,  1.96366816e-03, -2.55672918e-01,\n",
       "        -3.78306653e-01, -3.67520428e-02,  5.15201690e-02,\n",
       "         9.90290846e-02, -3.30651238e-02,  8.73746543e-01,\n",
       "         7.25585209e-05],\n",
       "       [-2.24499994e-03, -1.85093501e-02, -8.67996529e-02,\n",
       "         3.55402799e-03, -4.05154189e-05,  8.47195073e-01,\n",
       "        -5.20138389e-01,  3.77131942e-02,  9.72275203e-03,\n",
       "        -2.31471169e-02, -3.84698250e-02,  1.70170830e-02,\n",
       "         4.92663809e-05],\n",
       "       [-1.49715080e-02, -2.31876506e-02,  9.54010643e-01,\n",
       "        -5.28216953e-02, -3.02488821e-03,  8.80160701e-03,\n",
       "        -1.33204612e-01,  1.99178984e-01,  1.35621460e-01,\n",
       "        -9.81967171e-03,  9.75106606e-02,  2.84851062e-02,\n",
       "        -2.40452216e-04],\n",
       "       [-1.56514071e-02,  6.72955455e-02, -1.32063034e-01,\n",
       "         5.39380582e-03,  6.20888455e-04,  3.88290281e-03,\n",
       "        -3.74880307e-02,  1.47552442e-01, -1.31188252e-02,\n",
       "         5.03555691e-02,  9.75561893e-01,  1.16302516e-02,\n",
       "        -9.99995129e-05],\n",
       "       [ 8.02924535e-03, -1.10903923e-02, -1.73685673e-01,\n",
       "         1.93956297e-03,  2.28453582e-03, -2.66914407e-02,\n",
       "         6.95985330e-02,  9.66466227e-01, -1.76035672e-02,\n",
       "        -4.63294250e-03, -1.66550828e-01,  4.41922433e-02,\n",
       "         3.62670135e-05]])"
      ]
     },
     "execution_count": 16,
     "metadata": {},
     "output_type": "execute_result"
    }
   ],
   "source": [
    "pca.components_"
   ]
  }
 ],
 "metadata": {
  "kernelspec": {
   "display_name": "Python 3 (ipykernel)",
   "language": "python",
   "name": "python3"
  },
  "language_info": {
   "codemirror_mode": {
    "name": "ipython",
    "version": 3
   },
   "file_extension": ".py",
   "mimetype": "text/x-python",
   "name": "python",
   "nbconvert_exporter": "python",
   "pygments_lexer": "ipython3",
   "version": "3.10.4"
  }
 },
 "nbformat": 4,
 "nbformat_minor": 5
}
